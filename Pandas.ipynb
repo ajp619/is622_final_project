{
 "cells": [
  {
   "cell_type": "markdown",
   "metadata": {},
   "source": [
    "# Million Song Database\n",
    "IS622 Final Project  \n",
    "Aaron Palumbo | December 2015"
   ]
  },
  {
   "cell_type": "markdown",
   "metadata": {},
   "source": [
    "## About the Data"
   ]
  },
  {
   "cell_type": "markdown",
   "metadata": {},
   "source": [
    "The <a href=http://labrosa.ee.columbia.edu/millionsong/tasteprofile>data</a> are provided by The Echo Nest.\n",
    "\n",
    "From the website:\n",
    "\n",
    "> Welcome to the Taste Profile subset, the official user dataset of the Million Song Dataset.\n",
    "\n",
    "> The Echo Nest is committed to giving back to the research community (for instance by creating the MSD!), and they prove it again by releasing the Taste Profile dataset. The dataset contains real user - play counts from undisclosed partners, all songs already matched to the MSD. if you were looking for the right collaborative filtering dataset with audio features, this might be for you! Plus, you can link that user data to lyrics, tags and Last.fm's similar songs, thus you have many viewpoint for explaining the data.\n",
    "\n",
    "The Million Song Dataset Challenge, B. McFee, T. Bertin-Mahieux, D. Ellis and G. Lanckriet, AdMIRe '12 [pdf][bib]"
   ]
  },
  {
   "cell_type": "markdown",
   "metadata": {},
   "source": [
    "The listening data from EchoNest comes as one big text file. Each line contains three fields: user, song, play count.\n",
    "\n",
    "We can see the file on disk:"
   ]
  },
  {
   "cell_type": "code",
   "execution_count": 1,
   "metadata": {
    "collapsed": false
   },
   "outputs": [
    {
     "name": "stdout",
     "output_type": "stream",
     "text": [
      "-rw-r--r-- 1 apalumbo apalumbo 2.8G Dec 19  2011 ../data/train_triplets.txt\r\n"
     ]
    }
   ],
   "source": [
    "%ls -lh ../data/train_triplets.txt"
   ]
  },
  {
   "cell_type": "markdown",
   "metadata": {},
   "source": [
    "We can copy this to HDFS with the command line tool:\n",
    "\n",
    "    hdfs dfs -put {{ fileLoc }} {{ fileHDFS }}\n",
    "\n",
    "Here I am using the <a href=\"http://jinja.pocoo.org/Jinja\">Jinja2</a> syntax to reference variables."
   ]
  },
  {
   "cell_type": "code",
   "execution_count": 2,
   "metadata": {
    "collapsed": false
   },
   "outputs": [
    {
     "data": {
      "text/plain": [
       "[{'block_size': 134217728,\n",
       "  'group': 'supergroup',\n",
       "  'kind': 'file',\n",
       "  'last_access': 1450648897,\n",
       "  'last_mod': 1450543445,\n",
       "  'name': u'hdfs://localhost:9000/user/apalumbo/final/train_triplets.txt',\n",
       "  'owner': 'apalumbo',\n",
       "  'path': u'hdfs://localhost:9000/user/apalumbo/final/train_triplets.txt',\n",
       "  'permissions': 420,\n",
       "  'replication': 1,\n",
       "  'size': 3001659271L}]"
      ]
     },
     "execution_count": 2,
     "metadata": {},
     "output_type": "execute_result"
    }
   ],
   "source": [
    "# show file in hadoop\n",
    "import pydoop.hdfs as hdfs\n",
    "hdfs.lsl(\"/user/apalumbo/final/train_triplets.txt\")"
   ]
  },
  {
   "cell_type": "markdown",
   "metadata": {},
   "source": [
    "## Objective"
   ]
  },
  {
   "cell_type": "markdown",
   "metadata": {},
   "source": [
    "The data consists of:\n",
    "\n",
    "* 1,019,318 unique users\n",
    "* 384,546 unique MSD songs\n",
    "* 48,373,586 user - song - play count triplets\n",
    "\n",
    "Our goal is to compare three tools for analyzing this data:\n",
    "\n",
    "* pandas\n",
    "* Spark\n",
    "* **Hadoop**\n",
    "\n",
    "\n",
    "We will make this comparison based on normal tasks encountered while working with data of this type and try to draw some conclusions about the appropriateness of each of these tools. Obviously, the first criterion we will use in the comparison is the feasibility. Assuming the task is feasible in all three tools we will then move to complexity and time. Complexity will be somewhat subjective while time will be more objective. In our conclusions we will also discuss how will each of these methods scale.\n",
    "\n",
    "> _Notes_\n",
    "> * we will be using Apache Spark 1.5.1\n",
    "* Hadoop 2.7.1 accessed from python with pydoop 1.1.0\n",
    "* pandas 0.17.1\n",
    "* we will exercise the tool sequentially and confirm that memory has been released to ensure the resources of the machine are dedicated to the tool at hand."
   ]
  },
  {
   "cell_type": "markdown",
   "metadata": {},
   "source": [
    "## Pandas"
   ]
  },
  {
   "cell_type": "code",
   "execution_count": 37,
   "metadata": {
    "collapsed": true
   },
   "outputs": [],
   "source": [
    "import pandas as pd\n",
    "import IPython.display as dis\n",
    "from pyechonest import song\n",
    "from pyechonest import config\n",
    "import json"
   ]
  },
  {
   "cell_type": "code",
   "execution_count": 4,
   "metadata": {
    "collapsed": true
   },
   "outputs": [],
   "source": [
    "colnames = [\"user\", \"song\", \"playCount\"]\n",
    "\n",
    "fileLoc  = \"file:///home/apalumbo/is622/final_project/data/train_triplets.txt\""
   ]
  },
  {
   "cell_type": "markdown",
   "metadata": {},
   "source": [
    "### Loading the Data"
   ]
  },
  {
   "cell_type": "code",
   "execution_count": 5,
   "metadata": {
    "collapsed": false
   },
   "outputs": [
    {
     "name": "stdout",
     "output_type": "stream",
     "text": [
      "CPU times: user 50 s, sys: 2.25 s, total: 52.2 s\n",
      "Wall time: 52.5 s\n"
     ]
    }
   ],
   "source": [
    "%%time\n",
    "songs_pandas = pd.read_csv(fileLoc, sep=\"\\t\", header=None, names=colnames)"
   ]
  },
  {
   "cell_type": "code",
   "execution_count": 6,
   "metadata": {
    "collapsed": false
   },
   "outputs": [
    {
     "name": "stdout",
     "output_type": "stream",
     "text": [
      "10000 loops, best of 3: 183 µs per loop\n"
     ]
    }
   ],
   "source": [
    "%%timeit\n",
    "songs_pandas.head(10)"
   ]
  },
  {
   "cell_type": "markdown",
   "metadata": {},
   "source": [
    "### Data Statistics"
   ]
  },
  {
   "cell_type": "code",
   "execution_count": 16,
   "metadata": {
    "collapsed": false
   },
   "outputs": [
    {
     "name": "stdout",
     "output_type": "stream",
     "text": [
      "48373586\n",
      "1019318\n",
      "384546\n",
      "CPU times: user 12.9 s, sys: 244 ms, total: 13.2 s\n",
      "Wall time: 13.2 s\n"
     ]
    }
   ],
   "source": [
    "%%time\n",
    "# Size of data\n",
    "print len(songs_pandas)\n",
    "# unique users\n",
    "print len(songs_pandas.user.unique())\n",
    "# unique songs\n",
    "print len(songs_pandas.song.unique())"
   ]
  },
  {
   "cell_type": "code",
   "execution_count": 35,
   "metadata": {
    "collapsed": false
   },
   "outputs": [
    {
     "data": {
      "text/html": [
       "<div>\n",
       "<table border=\"1\" class=\"dataframe\">\n",
       "  <thead>\n",
       "    <tr style=\"text-align: right;\">\n",
       "      <th></th>\n",
       "      <th>playCount</th>\n",
       "    </tr>\n",
       "    <tr>\n",
       "      <th>song</th>\n",
       "      <th></th>\n",
       "    </tr>\n",
       "  </thead>\n",
       "  <tbody>\n",
       "    <tr>\n",
       "      <th>SOBONKR12A58A7A7E0</th>\n",
       "      <td>726885</td>\n",
       "    </tr>\n",
       "    <tr>\n",
       "      <th>SOAUWYT12A81C206F1</th>\n",
       "      <td>648239</td>\n",
       "    </tr>\n",
       "    <tr>\n",
       "      <th>SOSXLTC12AF72A7F54</th>\n",
       "      <td>527893</td>\n",
       "    </tr>\n",
       "    <tr>\n",
       "      <th>SOFRQTD12A81C233C0</th>\n",
       "      <td>425463</td>\n",
       "    </tr>\n",
       "    <tr>\n",
       "      <th>SOEGIYH12A6D4FC0E3</th>\n",
       "      <td>389880</td>\n",
       "    </tr>\n",
       "    <tr>\n",
       "      <th>SOAXGDH12A8C13F8A1</th>\n",
       "      <td>356533</td>\n",
       "    </tr>\n",
       "    <tr>\n",
       "      <th>SONYKOW12AB01849C9</th>\n",
       "      <td>292642</td>\n",
       "    </tr>\n",
       "    <tr>\n",
       "      <th>SOPUCYA12A8C13A694</th>\n",
       "      <td>274627</td>\n",
       "    </tr>\n",
       "    <tr>\n",
       "      <th>SOUFTBI12AB0183F65</th>\n",
       "      <td>268353</td>\n",
       "    </tr>\n",
       "    <tr>\n",
       "      <th>SOVDSJC12A58A7A271</th>\n",
       "      <td>244730</td>\n",
       "    </tr>\n",
       "  </tbody>\n",
       "</table>\n",
       "</div>"
      ],
      "text/plain": [
       "                    playCount\n",
       "song                         \n",
       "SOBONKR12A58A7A7E0     726885\n",
       "SOAUWYT12A81C206F1     648239\n",
       "SOSXLTC12AF72A7F54     527893\n",
       "SOFRQTD12A81C233C0     425463\n",
       "SOEGIYH12A6D4FC0E3     389880\n",
       "SOAXGDH12A8C13F8A1     356533\n",
       "SONYKOW12AB01849C9     292642\n",
       "SOPUCYA12A8C13A694     274627\n",
       "SOUFTBI12AB0183F65     268353\n",
       "SOVDSJC12A58A7A271     244730"
      ]
     },
     "metadata": {},
     "output_type": "display_data"
    },
    {
     "name": "stdout",
     "output_type": "stream",
     "text": [
      "CPU times: user 16.8 s, sys: 668 ms, total: 17.5 s\n",
      "Wall time: 17.5 s\n"
     ]
    }
   ],
   "source": [
    "%%time\n",
    "playcounts = songs_pandas.groupby(\"song\").sum()\n",
    "topSongs = playcounts.sort('playCount', ascending=False).head(10)\n",
    "dis.display(topSongs)"
   ]
  },
  {
   "cell_type": "code",
   "execution_count": 45,
   "metadata": {
    "collapsed": false
   },
   "outputs": [
    {
     "name": "stdout",
     "output_type": "stream",
     "text": [
      "SOBONKR12A58A7A7E0 not found\n",
      "artist: Bj�rk, title: Undo (Live - Vespertine World Tour 2001)\n",
      "artist: Kings of Leon, title: Revelry\n",
      "SOFRQTD12A81C233C0 not found\n",
      "artist: Barry Tuckwell, title: Horn Concerto No. 4 in E Flat, K.495: II. Romance (Andante cantabile)\n",
      "SOAXGDH12A8C13F8A1 not found\n",
      "SONYKOW12AB01849C9 not found\n",
      "artist: Five Iron Frenzy, title: Canada\n",
      "artist: Tub Ring, title: Invalid\n",
      "SOVDSJC12A58A7A271 not found\n"
     ]
    }
   ],
   "source": [
    "# Use echonest API to look up user/song information\n",
    "echonestAPI = json.load(open(\"../echonest_info.json\", \"rb\"))\n",
    "config.ECHO_NEST_API_KEY = echonestAPI['api_key']\n",
    "\n",
    "for i in topSongs.index:\n",
    "    try:\n",
    "        s = song.Song(i)\n",
    "        artist = s.artist_name.encode(\"iso-8859-1\")\n",
    "        title = s.title.encode(\"iso-8859-1\")\n",
    "        print \"artist: {}, title: {}\".format(artist, title)\n",
    "    except IndexError:\n",
    "        print \"{} not found\".format(i)"
   ]
  },
  {
   "cell_type": "markdown",
   "metadata": {},
   "source": [
    "## Appendix"
   ]
  },
  {
   "cell_type": "code",
   "execution_count": 46,
   "metadata": {
    "collapsed": false
   },
   "outputs": [
    {
     "name": "stdout",
     "output_type": "stream",
     "text": [
      "{\n",
      "  \"stdin_port\": 33324, \n",
      "  \"ip\": \"127.0.0.1\", \n",
      "  \"control_port\": 51460, \n",
      "  \"hb_port\": 44358, \n",
      "  \"signature_scheme\": \"hmac-sha256\", \n",
      "  \"key\": \"211f60b4-f7cb-4402-895c-9e6837da0a9f\", \n",
      "  \"shell_port\": 48229, \n",
      "  \"transport\": \"tcp\", \n",
      "  \"iopub_port\": 59232\n",
      "}\n",
      "\n",
      "Paste the above JSON into a file, and connect with:\n",
      "    $> ipython <app> --existing <file>\n",
      "or, if you are local, you can connect with just:\n",
      "    $> ipython <app> --existing kernel-3e8d1bf4-6967-4a71-beab-d6c0a4b0567c.json \n",
      "or even just:\n",
      "    $> ipython <app> --existing \n",
      "if this is the most recent IPython session you have started.\n"
     ]
    }
   ],
   "source": [
    "# used to connect a console to the notebook\n",
    "%connect_info"
   ]
  }
 ],
 "metadata": {
  "kernelspec": {
   "display_name": "Python 2",
   "language": "python",
   "name": "python2"
  },
  "language_info": {
   "codemirror_mode": {
    "name": "ipython",
    "version": 2
   },
   "file_extension": ".py",
   "mimetype": "text/x-python",
   "name": "python",
   "nbconvert_exporter": "python",
   "pygments_lexer": "ipython2",
   "version": "2.7.11"
  }
 },
 "nbformat": 4,
 "nbformat_minor": 0
}
